{
 "cells": [
  {
   "cell_type": "code",
   "execution_count": 1,
   "metadata": {},
   "outputs": [
    {
     "name": "stdout",
     "output_type": "stream",
     "text": [
      "1.9.0\n"
     ]
    }
   ],
   "source": [
    "import tensorflow as tf\n",
    "import numpy as np\n",
    "import matplotlib.pyplot as plt\n",
    "%matplotlib inline\n",
    "import pandas as pd\n",
    "print tf.__version__"
   ]
  },
  {
   "cell_type": "markdown",
   "metadata": {},
   "source": [
    "# Fundamentos de TensorFlow\n",
    "\n",
    "**Expresiones**\n",
    "- Las expresiones son construidas en términos de **variables** (para los parémetros, como $\\theta$) y **placeholders** (para los datos)\n",
    "\n",
    "- Cuando definimos las expresiones **construimos su grafo simbólico**, pero **no son evaluadas**\n",
    "\n",
    "- Las expresiones sólo son evaluadas **dentro de una sesión**\n",
    "\n",
    "- El proceso de **optimización** trata de encontrar valores de las **variables** que minimizan una cierta expresión. \n",
    "\n",
    "\n",
    "**Parámetros**\n",
    "- Las **variables** tienen un tamaño fijo, contienen los parámetros de un modelos, que luego pueden ser salvados o restaurados.\n",
    "\n",
    "- Las **variables** pueden tener un valor constante, pero normalmente se inicializan con algún valor aleatorio o determinado, y su contenido va variando durante el proceso de optimización.\n",
    "\n",
    "**Datos**\n",
    "- Los **placeholders** pueden ser matrices (tensores) con un número fijo de columnas, pero variable de filas, para poder evaluar las expresiones con distintos datasets.\n",
    "\n",
    "- Los **placeholders** no tienen valores iniciales, y hay que alimentarlos directamente con los datos\n",
    "\n",
    "\n",
    "\n",
    "**Gradientes**\n",
    "\n",
    "- TensorFlow calcula automáticamente los gradientes de las expresiones, que los obtiene simbólicamente. Normalmente los gradientes se calculan **respecto a los parámetros** (_placeholders_)\n"
   ]
  },
  {
   "cell_type": "markdown",
   "metadata": {},
   "source": [
    "## ¿Qué es el cálculo simbólico?\n",
    "\n",
    "la máquina manipula algebraicamente las expresiones como lo haríamos nosotros con lápiz y papel"
   ]
  },
  {
   "cell_type": "code",
   "execution_count": 2,
   "metadata": {},
   "outputs": [],
   "source": [
    "import sympy as sy\n",
    "sy.init_printing(use_latex=True)\n",
    "x,y = sy.symbols(\"x y\")"
   ]
  },
  {
   "cell_type": "code",
   "execution_count": 3,
   "metadata": {},
   "outputs": [
    {
     "data": {
      "image/png": "[encoded data removed]",
      "text/latex": [
       "$$\\left(x + 3 y\\right)^{2}$$"
      ],
      "text/plain": [
       "         2\n",
       "(x + 3⋅y) "
      ]
     },
     "execution_count": 3,
     "metadata": {},
     "output_type": "execute_result"
    }
   ],
   "source": [
    "expr = (x+3*y)**2\n",
    "expr"
   ]
  },
  {
   "cell_type": "code",
   "execution_count": 4,
   "metadata": {},
   "outputs": [
    {
     "data": {
      "image/png": "[encoded data removed]",
      "text/latex": [
       "$$x^{2} + 6 x y + 9 y^{2}$$"
      ],
      "text/plain": [
       " 2              2\n",
       "x  + 6⋅x⋅y + 9⋅y "
      ]
     },
     "execution_count": 4,
     "metadata": {},
     "output_type": "execute_result"
    }
   ],
   "source": [
    "expr.expand()"
   ]
  },
  {
   "cell_type": "markdown",
   "metadata": {},
   "source": [
    "derivadas"
   ]
  },
  {
   "cell_type": "code",
   "execution_count": 5,
   "metadata": {},
   "outputs": [
    {
     "data": {
      "image/png": "[encoded data removed]",
      "text/latex": [
       "$$2 x + 6 y$$"
      ],
      "text/plain": [
       "2⋅x + 6⋅y"
      ]
     },
     "execution_count": 5,
     "metadata": {},
     "output_type": "execute_result"
    }
   ],
   "source": [
    "expr.diff(x)"
   ]
  },
  {
   "cell_type": "code",
   "execution_count": 6,
   "metadata": {},
   "outputs": [
    {
     "data": {
      "image/png": "[encoded data removed]",
      "text/latex": [
       "$$6 x + 18 y$$"
      ],
      "text/plain": [
       "6⋅x + 18⋅y"
      ]
     },
     "execution_count": 6,
     "metadata": {},
     "output_type": "execute_result"
    }
   ],
   "source": [
    "expr.diff(y)"
   ]
  },
  {
   "cell_type": "markdown",
   "metadata": {},
   "source": [
    "resolvemos la ecuación cuando $=0$"
   ]
  },
  {
   "cell_type": "code",
   "execution_count": 7,
   "metadata": {},
   "outputs": [
    {
     "data": {
      "image/png": "[encoded data removed]",
      "text/latex": [
       "$$\\left [ \\left \\{ x : - 3 y\\right \\}\\right ]$$"
      ],
      "text/plain": [
       "[{x: -3⋅y}]"
      ]
     },
     "execution_count": 7,
     "metadata": {},
     "output_type": "execute_result"
    }
   ],
   "source": [
    "sy.solve(expr)"
   ]
  },
  {
   "cell_type": "markdown",
   "metadata": {},
   "source": [
    "pero **todo es simbólico** hasta que **explícitamente lo evaluamos**"
   ]
  },
  {
   "cell_type": "code",
   "execution_count": 8,
   "metadata": {},
   "outputs": [
    {
     "data": {
      "image/png": "[encoded data removed]",
      "text/latex": [
       "$$256$$"
      ],
      "text/plain": [
       "256"
      ]
     },
     "execution_count": 8,
     "metadata": {},
     "output_type": "execute_result"
    }
   ],
   "source": [
    "expr.subs({x:10, y:2})"
   ]
  },
  {
   "cell_type": "markdown",
   "metadata": {},
   "source": [
    "integramos simbólicamente"
   ]
  },
  {
   "cell_type": "code",
   "execution_count": 9,
   "metadata": {},
   "outputs": [
    {
     "data": {
      "image/png": "[encoded data removed]",
      "text/latex": [
       "$$\\frac{x^{3}}{3} + 3 x^{2} y + 9 x y^{2}$$"
      ],
      "text/plain": [
       " 3                  \n",
       "x       2          2\n",
       "── + 3⋅x ⋅y + 9⋅x⋅y \n",
       "3                   "
      ]
     },
     "execution_count": 9,
     "metadata": {},
     "output_type": "execute_result"
    }
   ],
   "source": [
    "expr.integrate(x)"
   ]
  },
  {
   "cell_type": "markdown",
   "metadata": {},
   "source": [
    "o evaluamos una integral definida. P.ej, sabemos que:\n",
    "\n",
    "$$\\int_{-1}^1 2\\sqrt{1-x^2} = \\pi$$"
   ]
  },
  {
   "cell_type": "code",
   "execution_count": 10,
   "metadata": {},
   "outputs": [
    {
     "data": {
      "image/png": "[encoded data removed]",
      "text/latex": [
       "$$2 \\sqrt{- x^{2} + 1}$$"
      ],
      "text/plain": [
       "     __________\n",
       "    ╱    2     \n",
       "2⋅╲╱  - x  + 1 "
      ]
     },
     "execution_count": 10,
     "metadata": {},
     "output_type": "execute_result"
    }
   ],
   "source": [
    "expr = 2*sy.sqrt(1-x**2)\n",
    "expr"
   ]
  },
  {
   "cell_type": "code",
   "execution_count": 11,
   "metadata": {},
   "outputs": [
    {
     "data": {
      "image/png": "[encoded data removed]",
      "text/latex": [
       "$$\\left ( \\pi, \\quad 3.14159265358979\\right )$$"
      ],
      "text/plain": [
       "(π, 3.14159265358979)"
      ]
     },
     "execution_count": 11,
     "metadata": {},
     "output_type": "execute_result"
    }
   ],
   "source": [
    "pi = expr.integrate( (x,-1,1))\n",
    "pi, sy.N(pi)"
   ]
  },
  {
   "cell_type": "code",
   "execution_count": 12,
   "metadata": {},
   "outputs": [],
   "source": [
    "sy.init_printing(use_latex=False)"
   ]
  },
  {
   "cell_type": "markdown",
   "metadata": {},
   "source": [
    "## TensorFlow: cálculo simbólico para ML\n",
    "\n",
    "fíjate cómo en TF se define un grafo (simbólico) y luego se le inyectan valores para evaluarlo\n"
   ]
  },
  {
   "cell_type": "code",
   "execution_count": 13,
   "metadata": {},
   "outputs": [
    {
     "data": {
      "text/plain": [
       "<tf.Tensor 'add:0' shape=(2, 1) dtype=float32>"
      ]
     },
     "execution_count": 13,
     "metadata": {},
     "output_type": "execute_result"
    }
   ],
   "source": [
    "x = tf.Variable(initial_value=tf.random_uniform([2,1]), name=\"x\", dtype=tf.float32)\n",
    "y = tf.Variable(initial_value=tf.random_uniform([2,1]), name=\"x\", dtype=tf.float32)\n",
    "expr = x**2+y**2\n",
    "expr"
   ]
  },
  {
   "cell_type": "code",
   "execution_count": 14,
   "metadata": {},
   "outputs": [
    {
     "name": "stdout",
     "output_type": "stream",
     "text": [
      "[[0.21218872]\n",
      " [0.78554606]]\n",
      "[[0.00688422]\n",
      " [0.01445711]]\n",
      "[[0.04507145]\n",
      " [0.6172916 ]]\n"
     ]
    }
   ],
   "source": [
    "with tf.Session() as sess:\n",
    "    tf.global_variables_initializer().run()\n",
    "    print sess.run(x)\n",
    "    print sess.run(y)\n",
    "    print sess.run(expr)"
   ]
  },
  {
   "cell_type": "code",
   "execution_count": 15,
   "metadata": {},
   "outputs": [
    {
     "name": "stdout",
     "output_type": "stream",
     "text": [
      "[[13.]\n",
      " [20.]]\n"
     ]
    }
   ],
   "source": [
    "with tf.Session() as sess:\n",
    "    tf.global_variables_initializer().run()\n",
    "    print sess.run(expr, feed_dict={x:[[2],[2]], y:[[3],[4]]})"
   ]
  },
  {
   "cell_type": "markdown",
   "metadata": {},
   "source": [
    "\n",
    "Las expresiones de ML tienen **muchos parámetros** y en ellas participan **muchos datos**, todo ello mayormente a través de **operaciones con matrices**.\n",
    "\n",
    "- Los paquetes genéricos de cálculo simbólico (como `sympy`) se vuelven impracticables para los problemas de ML.\n",
    "- TF está diseñado específicamente como **paquete de cómputo simbólico para problemas de ML**.\n",
    "    - tratamiento especial de matrices simbólicas\n",
    "    - distinción entre símbolos para los datos (_placeholders_) y para los parámetros del modelo (_variables_)\n",
    "- Además permite paralelismo, visualizaciones, etc.\n",
    "\n",
    "En TensorFlow:\n",
    "\n",
    "- Hay una **expresión simbólica** que define nuestro problema de ML (el coste o **_loss_**)\n",
    "- Una **sesión tensorflow** provee un contexto para evaluar expresiones y realizar algoritmos.\n",
    "\n",
    "Por ejemplo, para nuestro modelo de regresión lineal\n",
    "\n",
    "- $X \\in \\mathbb{R}^{m\\times 2} = \\{\\mathbf{x}^{(i)} \\in \\mathbb{R}^2\\}$, datos (**placeholder**)\n",
    "- $y \\in \\mathbb{R}^m = \\{y^{(i)} \\in \\mathbb{R}\\}$, etiquetas (**placeholder**)\n",
    "- $\\theta \\in \\mathbb{R}^2$, parámetros (**variable**)\n",
    "\n",
    "\n",
    "- $\\hat{y}^{(i)} = \\overline\\theta \\cdot \\mathbf{x}^{(i)}$: predicción del modelo ante la entrada $\\mathbf{x}^{(i)}$.\n",
    "\n",
    "$$J(\\overline\\theta;X,y) = \\frac{1}{m}\\sum_{i=0}^{m-1} (\\overline\\theta \\cdot \\mathbf{x}^{(i)} - y^{(i)})^2$$\n",
    "\n",
    "\n",
    "$$\\nabla J (\\overline\\theta; X,y) = \\begin{bmatrix}\n",
    "\\frac{\\partial J}{\\partial \\theta_0}\\\\\n",
    "\\frac{\\partial J}{\\partial \\theta_1}\n",
    "\\end{bmatrix} = \\frac{1}{m}2X^{T}\\cdot(X\\cdot\\overline\\theta-Y)$$\n",
    "\n",
    "recuerda que\n",
    "- $\\overline{\\theta} = [\\theta_0, \\theta_1]$\n",
    "- $\\mathbf{x}^{(i)} = [1, x^{(i)}]$\n",
    "\n",
    "$J$ define nuestro problema de ML (es la función de **_loss_**), y $\\nabla J$ es su gradiente que será necesario para encontrar los parámetros $\\theta$ que minimizan $J$.\n",
    "\n",
    "pero con TF no tenemos que calcular $\\nabla J$ a mano!!!!\n",
    "\n"
   ]
  },
  {
   "cell_type": "code",
   "execution_count": 16,
   "metadata": {},
   "outputs": [],
   "source": [
    "tf.reset_default_graph()\n",
    "t = tf.Variable(initial_value=tf.random_uniform([2,1]), name=\"t\", dtype=tf.float32)\\\n",
    "   *tf.constant([[40],[20]], dtype=tf.float32)-tf.constant([[5],[10]], dtype=tf.float32)\n",
    "X = tf.placeholder(name=\"X\", dtype=tf.float32, shape = (None, 2))\n",
    "y = tf.placeholder(name=\"y\", dtype=tf.float32, shape = (None, 1))\n",
    "y_hat = tf.matmul(X,t)\n",
    "loss = tf.reduce_mean(tf.pow(y_hat-y,tf.constant(2, dtype=tf.float32)))"
   ]
  },
  {
   "cell_type": "code",
   "execution_count": 17,
   "metadata": {},
   "outputs": [],
   "source": [
    "with tf.Session() as sess:\n",
    "    writer = tf.summary.FileWriter(\"tmp\", sess.graph)\n"
   ]
  },
  {
   "cell_type": "markdown",
   "metadata": {},
   "source": [
    "ejecuta\n",
    "\n",
    "     tensorboard --logdir tmp\n",
    "    \n",
    "desde la línea de comando y abre [localhost:6006](http://localhost:6006) para inspeccionar el **grafo computacional** que representa la expresión anterior"
   ]
  },
  {
   "cell_type": "code",
   "execution_count": 18,
   "metadata": {},
   "outputs": [
    {
     "data": {
      "text/plain": [
       "<matplotlib.collections.PathCollection at 0x7f4d1017d510>"
      ]
     },
     "execution_count": 18,
     "metadata": {},
     "output_type": "execute_result"
    },
    {
     "data": {
      "image/png": "[encoded data removed]",
      "text/plain": [
       "<matplotlib.figure.Figure at 0x7f4d6a4891d0>"
      ]
     },
     "metadata": {},
     "output_type": "display_data"
    }
   ],
   "source": [
    "d = pd.read_csv(\"data/trilotropicos.csv\")\n",
    "X_data = np.r_[[[1]*len(d), d.longitud]].T\n",
    "y_data = d.densidad_escamas.values\n",
    "plt.scatter(d.longitud, d.densidad_escamas)"
   ]
  },
  {
   "cell_type": "markdown",
   "metadata": {},
   "source": [
    "**Evaluamos el costo** (_loss_, $J$) en algún $\\theta$ aleatorio, con el grafo computacional de TF, **siempre dentro de una sessión**"
   ]
  },
  {
   "cell_type": "code",
   "execution_count": 19,
   "metadata": {},
   "outputs": [
    {
     "name": "stdout",
     "output_type": "stream",
     "text": [
      "t= [-0.89200497  4.7884445 ]\n",
      "J= 211.88751\n"
     ]
    }
   ],
   "source": [
    "init = tf.global_variables_initializer()\n",
    "with tf.Session() as sess:\n",
    "    sess.run(init)\n",
    "    t_sample = sess.run(t)\n",
    "    print \"t=\", t_sample[:,0]\n",
    "    print \"J=\", sess.run(loss, feed_dict={X: X_data, y: y_data.reshape(-1,1)})"
   ]
  },
  {
   "cell_type": "markdown",
   "metadata": {},
   "source": [
    "evaluación directa"
   ]
  },
  {
   "cell_type": "code",
   "execution_count": 20,
   "metadata": {},
   "outputs": [
    {
     "name": "stdout",
     "output_type": "stream",
     "text": [
      "J= 211.88750176424185\n"
     ]
    }
   ],
   "source": [
    "def J(t,X,y):\n",
    "    return np.mean((X.dot(t)-y)**2)\n",
    "\n",
    "print \"J=\", J(t_sample[:,0],X_data,y_data)"
   ]
  },
  {
   "cell_type": "markdown",
   "metadata": {},
   "source": [
    "### gradientes\n",
    "\n",
    "fíjate ahora cómo usamos TF para que nos calcule **las expresiones** de los gradientes"
   ]
  },
  {
   "cell_type": "code",
   "execution_count": 21,
   "metadata": {},
   "outputs": [],
   "source": [
    "grad_loss = tf.gradients(loss, t)"
   ]
  },
  {
   "cell_type": "code",
   "execution_count": 22,
   "metadata": {},
   "outputs": [],
   "source": [
    "with tf.Session() as sess:\n",
    "    writer = tf.summary.FileWriter(\"tmp\", sess.graph)"
   ]
  },
  {
   "cell_type": "markdown",
   "metadata": {},
   "source": [
    "observa de nuevo el grafo computacional con **tensorboard**.\n",
    "\n",
    "**Evaluamos el gradiente** en algún $\\theta$ aleatorio"
   ]
  },
  {
   "cell_type": "code",
   "execution_count": 23,
   "metadata": {},
   "outputs": [
    {
     "name": "stdout",
     "output_type": "stream",
     "text": [
      "t= [ 5.0847864 -5.647528 ]\n",
      "grad J= [ -61.053997 -304.89963 ]\n"
     ]
    }
   ],
   "source": [
    "with tf.Session() as sess:\n",
    "    sess.run(init)\n",
    "    t_sample = sess.run(t)\n",
    "    print \"t=\", t_sample[:,0]\n",
    "    print \"grad J=\", sess.run(grad_loss, feed_dict={X: X_data, y: y_data.reshape(-1,1)})[0][:,0]"
   ]
  },
  {
   "cell_type": "markdown",
   "metadata": {},
   "source": [
    "observamos que coincide con la expresión del gradiente derivada manualmente"
   ]
  },
  {
   "cell_type": "code",
   "execution_count": 24,
   "metadata": {},
   "outputs": [
    {
     "data": {
      "text/plain": [
       "array([ -61.05401003, -304.89965277])"
      ]
     },
     "execution_count": 24,
     "metadata": {},
     "output_type": "execute_result"
    }
   ],
   "source": [
    "def n_grad(t,X,y):\n",
    "    return 2*X.T.dot(X.dot(t)-y)/len(X)\n",
    "\n",
    "n_grad(t_sample[:,0], X_data, y_data)"
   ]
  },
  {
   "cell_type": "markdown",
   "metadata": {},
   "source": [
    "## Hacemos nuestra propia implementación de una optimización\n",
    "\n",
    "### Un gradiente descendiente simple\n",
    "\n",
    "Fíjate cómo usamos una regla de actualización de parámetros simple:\n",
    "\n",
    "$$\\theta = \\theta - 10^{-3} \\nabla J$$"
   ]
  },
  {
   "cell_type": "code",
   "execution_count": 25,
   "metadata": {},
   "outputs": [
    {
     "name": "stdout",
     "output_type": "stream",
     "text": [
      "init t=  [31.976433 -4.401524]\n",
      ". . . . . . . . . . . . . . . . . . . . . . . . . . . . . . . . . . . . . . . . . . . . . . . . . . . . . . . . . . . . . . . . . . . . . . . . . . . . . . . . . . . . . . . . . . . . . . . . . . . . \n",
      "final t= [12.797759  -0.7392324]\n"
     ]
    }
   ],
   "source": [
    "t_hist, cost_hist = [], []\n",
    "with tf.Session() as sess:\n",
    "    sess.run(init)\n",
    "    t_current = sess.run(t)\n",
    "    \n",
    "    print \"init t= \", t_current[:,0]\n",
    "    t_hist.append(t_current)\n",
    "    \n",
    "    for i in xrange(1,3001):\n",
    "        # parameter update\n",
    "        grad = sess.run(grad_loss, feed_dict={X: X_data, y: y_data.reshape(-1,1), t: t_current})        \n",
    "        t_current = t_current - grad[0]*.01\n",
    "        \n",
    "        # history\n",
    "        if i%30==0:\n",
    "            print \".\",\n",
    "            cost = sess.run(loss, feed_dict={X: X_data, y: y_data.reshape(-1,1), t: t_current})        \n",
    "            t_hist.append(t_current)\n",
    "            cost_hist.append(cost)\n",
    "        \n",
    "        \n",
    "print \"\\nfinal t=\", t_current[:,0]"
   ]
  },
  {
   "cell_type": "markdown",
   "metadata": {},
   "source": [
    "compara los parámetros obtenidos con los  óptimos"
   ]
  },
  {
   "cell_type": "code",
   "execution_count": 26,
   "metadata": {},
   "outputs": [
    {
     "name": "stdout",
     "output_type": "stream",
     "text": [
      "parámetros obtenidos [12.797759  -0.7392324]\n",
      "parámetros óptimos   [12.689998055222224, -0.7180590760985389]\n"
     ]
    }
   ],
   "source": [
    "from sklearn.linear_model import LinearRegression\n",
    "print \"parámetros obtenidos\", t_current[:,0]\n",
    "lr = LinearRegression()\n",
    "lr.fit(X_data[:,1:],y_data)\n",
    "print \"parámetros óptimos  \", [lr.intercept_, lr.coef_[0]]"
   ]
  },
  {
   "cell_type": "markdown",
   "metadata": {},
   "source": [
    "observa cómo obtenemos las predicciones alimentando los valores de $\\theta$  obtenidos a una nueva sesión de tenrsorflow"
   ]
  },
  {
   "cell_type": "code",
   "execution_count": 27,
   "metadata": {},
   "outputs": [],
   "source": [
    "with tf.Session() as sess:\n",
    "    preds = sess.run(y_hat, feed_dict={t: t_current, X: X_data})[:,0]"
   ]
  },
  {
   "cell_type": "code",
   "execution_count": 28,
   "metadata": {},
   "outputs": [
    {
     "name": "stdout",
     "output_type": "stream",
     "text": [
      "parámetros obtenidos [12.797759  -0.7392324]\n",
      "predicciones      [ 9.975965 11.205019  8.197353  8.437638  8.692785  9.57892   8.074619\n",
      "  9.583304  9.271976  8.898806]\n",
      "valores esperados [ 8.81002719 12.98047638  9.50777126  7.81259333  8.81891411  8.07371798\n",
      "  9.54390404  7.15116822  7.15939183  7.50229833]\n",
      "mean abs error    1.3821742013484553\n",
      "mean rel error    0.15099333394872233\n"
     ]
    }
   ],
   "source": [
    "nt = t_current[:,0]\n",
    "print \"parámetros obtenidos\", nt\n",
    "print \"predicciones     \", preds[:10]\n",
    "print \"valores esperados\", y_data[:10]\n",
    "print \"mean abs error   \", np.mean(np.abs(y_data-preds))\n",
    "print \"mean rel error   \", np.mean(np.abs(y_data-preds)/y_data)"
   ]
  },
  {
   "cell_type": "code",
   "execution_count": 29,
   "metadata": {},
   "outputs": [
    {
     "data": {
      "text/plain": [
       "[<matplotlib.lines.Line2D at 0x7f4ce80f6490>]"
      ]
     },
     "execution_count": 29,
     "metadata": {},
     "output_type": "execute_result"
    },
    {
     "data": {
      "image/png": "[encoded data removed]",
      "text/plain": [
       "<matplotlib.figure.Figure at 0x7f4ce80f64d0>"
      ]
     },
     "metadata": {},
     "output_type": "display_data"
    }
   ],
   "source": [
    "plt.scatter(d.longitud, d.densidad_escamas)\n",
    "k = np.linspace(np.min(d.longitud), np.max(d.longitud),100)\n",
    "plt.plot(k, k*nt[1]+nt[0], color=\"black\")"
   ]
  },
  {
   "cell_type": "markdown",
   "metadata": {},
   "source": [
    "pintamos el proceso que hemos hecho"
   ]
  },
  {
   "cell_type": "code",
   "execution_count": 30,
   "metadata": {},
   "outputs": [],
   "source": [
    "import itertools\n",
    "def plot_cost(cost, t0_range, t1_range, vx=None,vy=None):\n",
    "    k0,k1 = 40,40\n",
    "\n",
    "    t0 = np.linspace(t0_range[0], t0_range[1], k0)\n",
    "    t1 = np.linspace(t1_range[0], t1_range[1], k1)\n",
    "\n",
    "    p = np.zeros((k0,k1))\n",
    "\n",
    "    for i,j in itertools.product(range(k0), range(k1)):\n",
    "        p[i,j] = np.log(cost(np.r_[t0[i],t1[j]]))\n",
    "\n",
    "    plt.contourf(t0, t1, p.T, cmap=plt.cm.hot, levels=np.linspace(np.min(p), np.max(p), 20))\n",
    "    plt.ylabel(r\"$\\theta_1$\")\n",
    "    plt.xlabel(r\"$\\theta_0$\")\n",
    "    plt.title(\"loss\")\n",
    "    plt.colorbar()\n",
    "\n",
    "    if vx is not None:\n",
    "        plt.axvline(vx, color=\"white\")\n",
    "    if vy is not None:\n",
    "        plt.axhline(vy, color=\"white\")"
   ]
  },
  {
   "cell_type": "code",
   "execution_count": 31,
   "metadata": {},
   "outputs": [
    {
     "data": {
      "image/png": "[encoded data removed]",
      "text/plain": [
       "<matplotlib.figure.Figure at 0x7f4ce8006090>"
      ]
     },
     "metadata": {},
     "output_type": "display_data"
    }
   ],
   "source": [
    "def plot_optimizer(t_hist, cost_hist):\n",
    "    plt.figure(figsize=(15,6))\n",
    "    plt.subplot(121)\n",
    "\n",
    "    loss = lambda t: J(t, X_data, y_data)\n",
    "    g=np.r_[t_hist][:,:,0]\n",
    "\n",
    "    plot_cost(loss, (-10,30), (-10,10), vx=lr.intercept_, vy=lr.coef_[0])\n",
    "    plt.plot(g[:,0], g[:,1], color=\"white\")\n",
    "    plt.scatter(g[:,0], g[:,1], color=\"white\", s=20)\n",
    "    plt.scatter(g[-1,0], g[-1,1], marker=\"x\", color=\"white\", s=200)\n",
    "\n",
    "    plt.subplot(122)\n",
    "    plt.plot(cost_hist, marker=\"o\")\n",
    "    plt.xlabel(\"step number\")\n",
    "    plt.ylabel(\"loss\")\n",
    "    plt.grid()\n",
    "plot_optimizer(t_hist, cost_hist)"
   ]
  },
  {
   "cell_type": "markdown",
   "metadata": {},
   "source": [
    "### Estrategias más elaboradas\n",
    "\n",
    "TensorFlow nos ofrece varias estrategias de exploración y descenso del gradiente.\n",
    "\n",
    "### [`GradientDescentOptimizer`](https://www.tensorflow.org/api_docs/python/tf/train/GradientDescentOptimizer)"
   ]
  },
  {
   "cell_type": "code",
   "execution_count": 32,
   "metadata": {},
   "outputs": [
    {
     "name": "stdout",
     "output_type": "stream",
     "text": [
      "init t=  [16.675081  8.930511]\n",
      "final t=  [12.688156  -0.7176933]\n"
     ]
    }
   ],
   "source": [
    "# definimos el grafo computacional\n",
    "tf.reset_default_graph()\n",
    "t = tf.Variable(initial_value=tf.random_uniform([2,1]), name=\"t\", dtype=tf.float32)\\\n",
    "   *tf.constant([[40],[20]], dtype=tf.float32)-tf.constant([[5],[10]], dtype=tf.float32)\n",
    "X = tf.placeholder(name=\"X\", dtype=tf.float32, shape = (None, 2))\n",
    "y = tf.placeholder(name=\"y\", dtype=tf.float32, shape = (None, 1))\n",
    "loss = tf.reduce_mean(tf.pow(tf.matmul(X,t)-y,tf.constant(2, dtype=tf.float32)))\n",
    "init = tf.global_variables_initializer()\n",
    "\n",
    "# realizamos la optimización\n",
    "optimizer_gd = tf.train.GradientDescentOptimizer(.00001).minimize(loss)\n",
    "t_hist, cost_hist = [], []\n",
    "with tf.Session() as sess:\n",
    "    sess.run(init)\n",
    "    t_current = sess.run(t)\n",
    "    print \"init t= \", sess.run(t)[:,0]\n",
    "    t_hist.append(t_current)\n",
    "    \n",
    "    for i in xrange(1,3000):\n",
    "        # parameter update\n",
    "        sess.run(optimizer_gd, feed_dict={X: X_data, y: y_data.reshape(-1,1)})\n",
    "        \n",
    "        # history\n",
    "        if i%30==0:\n",
    "            t_current, cost = sess.run([t, loss], feed_dict={X: X_data, y: y_data.reshape(-1,1)})\n",
    "            t_hist.append(t_current)\n",
    "            cost_hist.append(cost)\n",
    "        \n",
    "        \n",
    "    print \"final t= \", sess.run(t)[:,0]\n"
   ]
  },
  {
   "cell_type": "code",
   "execution_count": 33,
   "metadata": {},
   "outputs": [
    {
     "data": {
      "image/png": "[encoded data removed]",
      "text/plain": [
       "<matplotlib.figure.Figure at 0x7f4ce809a3d0>"
      ]
     },
     "metadata": {},
     "output_type": "display_data"
    }
   ],
   "source": [
    "plot_optimizer(t_hist, cost_hist)\n"
   ]
  },
  {
   "cell_type": "markdown",
   "metadata": {},
   "source": [
    "### [`AdamOptimizer`](https://www.tensorflow.org/api_docs/python/tf/train/AdamOptimizer) y uso de Batches\n",
    "\n",
    "Observa cómo:\n",
    "\n",
    "- usamos otro optimizador\n",
    "- usamos **batches** ya que en general, es más efectivo alimentar al optimizado con _batches_ de datos y no con todo el dataset:\n",
    "\n",
    "    - **epoch**: un paso por todo el dataset\n",
    "    - **step**: el procesamiento de un batch\n",
    "    - **batch_size**: el número de elementos que conforman un batch\n",
    "\n",
    "- al final de cada **epoch** \n",
    "    - muestreamos los parámetros y medimos el coste **con todo el dataset**.\n",
    "    - verificamos que la función `loss` sigue decayendo significativamente (si no, paramos)"
   ]
  },
  {
   "cell_type": "code",
   "execution_count": 34,
   "metadata": {},
   "outputs": [
    {
     "name": "stdout",
     "output_type": "stream",
     "text": [
      "init t =   [ 9.06713  -9.558098]\n",
      ". . . . . . . . . . . . . . . . . . . . . . . . . . . . . . . . . . . . . . . . . . . . . . . . . . . . . . . . . . . . final t =  [14.319279 -1.019248]\n"
     ]
    }
   ],
   "source": [
    "tf.reset_default_graph()\n",
    "t = tf.Variable(initial_value=tf.random_uniform([2,1]), name=\"t\", dtype=tf.float32)\\\n",
    "   *tf.constant([[40],[20]], dtype=tf.float32)-tf.constant([[5],[10]], dtype=tf.float32)\n",
    "X = tf.placeholder(name=\"X\", dtype=tf.float32, shape = (None, 2))\n",
    "y = tf.placeholder(name=\"y\", dtype=tf.float32, shape = (None, 1))\n",
    "loss = tf.reduce_mean(tf.pow(tf.matmul(X,t)-y,tf.constant(2, dtype=tf.float32)))\n",
    "\n",
    "optimizer_adam = tf.train.AdamOptimizer().minimize(loss)\n",
    "\n",
    "init = tf.global_variables_initializer()\n",
    "\n",
    "n_epochs = 60\n",
    "batch_size = 2\n",
    "n = X_data.shape[0]\n",
    "\n",
    "t_hist, loss_hist = [], []\n",
    "with tf.Session() as sess:\n",
    "    sess.run(init)\n",
    "    t_current = sess.run(t)\n",
    "    print \"init t =  \", sess.run(t)[:,0]\n",
    "    t_hist.append(t_current)\n",
    "    \n",
    "    for epoch in xrange(n_epochs):\n",
    "        print \".\",\n",
    "        for i in range(n/batch_size+int((n%batch_size)!=0)):\n",
    "            batch_init, batch_end = i*batch_size, np.min([(i+1)*batch_size, n])\n",
    "            X_batch, y_batch = X_data[batch_init:batch_end], y_data[batch_init:batch_end]\n",
    "            k = sess.run(optimizer_adam, feed_dict={X: X_batch, y: y_batch.reshape(-1,1)})\n",
    "\n",
    "        # history\n",
    "        t_current, nloss = sess.run([t, loss], feed_dict={X: X_data, y: y_data.reshape(-1,1)})\n",
    "        t_hist.append(t_current)\n",
    "        loss_hist.append(nloss)\n",
    "        if len(loss_hist)>2 and loss_hist[-2]-loss_hist[-1]<5e-3:\n",
    "            print \"small loss, stopping iteration\"\n",
    "            break\n",
    "        \n",
    "    print \"final t = \", sess.run(t)[:,0]"
   ]
  },
  {
   "cell_type": "code",
   "execution_count": 35,
   "metadata": {},
   "outputs": [
    {
     "data": {
      "text/plain": [
       "(0, 40)"
      ]
     },
     "execution_count": 35,
     "metadata": {},
     "output_type": "execute_result"
    },
    {
     "data": {
      "image/png": "[encoded data removed]",
      "text/plain": [
       "<matplotlib.figure.Figure at 0x7f4ce2079dd0>"
      ]
     },
     "metadata": {},
     "output_type": "display_data"
    }
   ],
   "source": [
    "plot_optimizer(t_hist, loss_hist)\n",
    "plt.ylim(0,40)"
   ]
  },
  {
   "cell_type": "code",
   "execution_count": null,
   "metadata": {},
   "outputs": [],
   "source": []
  }
 ],
 "metadata": {
  "kernelspec": {
   "display_name": "Python 2",
   "language": "python",
   "name": "python2"
  },
  "language_info": {
   "codemirror_mode": {
    "name": "ipython",
    "version": 2
   },
   "file_extension": ".py",
   "mimetype": "text/x-python",
   "name": "python",
   "nbconvert_exporter": "python",
   "pygments_lexer": "ipython2",
   "version": "2.7.14"
  }
 },
 "nbformat": 4,
 "nbformat_minor": 2
}
