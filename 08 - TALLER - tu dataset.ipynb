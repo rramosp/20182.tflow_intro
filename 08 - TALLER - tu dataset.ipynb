{
 "cells": [
  {
   "cell_type": "markdown",
   "metadata": {},
   "source": [
    "usa estimator/keras/input pipielines para crear algún modelo para tu dataset\n",
    "\n",
    "repositorios de datasets y competencias\n",
    "\n",
    "- https://archive.ics.uci.edu/ml/datasets.html\n",
    "- https://www.kaggle.com/competitions\n",
    "\n",
    "\n",
    "hay muchos ejemplos de utilización de Tensorflow en campos diversos. \n",
    "\n",
    "Si quieres aplicar TensorFlow en un caso concreto es probable que encuentres un ejemplo del que partir, pero la variedad en la forma de usar sus distintos elementos en grande:\n",
    "\n",
    "- algunos usan el API de bajo nivel\n",
    "- otros usan Keras\n",
    "- otros usan input functions\n",
    "- otros implementan ellos mismos el bucle de optimización\n",
    "- otros usan únicamente el API de alto nivel,\n",
    "- etc."
   ]
  },
  {
   "cell_type": "code",
   "execution_count": null,
   "metadata": {},
   "outputs": [],
   "source": []
  }
 ],
 "metadata": {
  "kernelspec": {
   "display_name": "Python 2",
   "language": "python",
   "name": "python2"
  },
  "language_info": {
   "codemirror_mode": {
    "name": "ipython",
    "version": 2
   },
   "file_extension": ".py",
   "mimetype": "text/x-python",
   "name": "python",
   "nbconvert_exporter": "python",
   "pygments_lexer": "ipython2",
   "version": "2.7.15"
  }
 },
 "nbformat": 4,
 "nbformat_minor": 2
}
