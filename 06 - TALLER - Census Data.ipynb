{
 "cells": [
  {
   "cell_type": "code",
   "execution_count": 1,
   "metadata": {},
   "outputs": [
    {
     "name": "stdout",
     "output_type": "stream",
     "text": [
      "1.9.0\n"
     ]
    },
    {
     "name": "stderr",
     "output_type": "stream",
     "text": [
      "/opt/miniconda/lib/python2.7/site-packages/sklearn/ensemble/weight_boosting.py:29: DeprecationWarning: numpy.core.umath_tests is an internal NumPy module and should not be imported. It will be removed in a future NumPy release.\n",
      "  from numpy.core.umath_tests import inner1d\n"
     ]
    }
   ],
   "source": [
    "import tensorflow as tf\n",
    "import numpy as np\n",
    "import matplotlib.pyplot as plt\n",
    "import mlutils\n",
    "%matplotlib inline\n",
    "import pandas as pd\n",
    "print tf.__version__"
   ]
  },
  {
   "cell_type": "markdown",
   "metadata": {},
   "source": [
    "## Descarga, arregla e inspecciona el dataset Census\n",
    "\n",
    "Esta es su dirección: https://archive.ics.uci.edu/ml/datasets/adult\n"
   ]
  },
  {
   "cell_type": "code",
   "execution_count": 2,
   "metadata": {},
   "outputs": [],
   "source": [
    "import os\n",
    "!mkdir -p data\n",
    "if not os.path.exists(\"data/adult.data\"):\n",
    "    !wget -c -nc https://archive.ics.uci.edu/ml/machine-learning-databases/adult/adult.data -P data\n",
    "    with open(\"data/adult.data\", \"r\") as f:\n",
    "        lines = f.readlines()\n",
    "        lines = [i for i in lines if len(i.replace(\"\\n\", \"\"))>0]\n",
    "    with open(\"data/adult.data\", \"w\") as f:\n",
    "        f.writelines(lines) \n",
    "    \n",
    "if not os.path.exists(\"data/adult.test\"):        \n",
    "    !wget -c -nc https://archive.ics.uci.edu/ml/machine-learning-databases/adult/adult.test -P data\n",
    "    with open(\"data/adult.test\", \"r\") as f:\n",
    "        lines = f.readlines()\n",
    "        lines = [i for i in lines if len(i.replace(\"\\n\", \"\"))>0]\n",
    "    with open(\"data/adult.test\", \"w\") as f:\n",
    "        f.writelines(lines[1:]) \n"
   ]
  },
  {
   "cell_type": "code",
   "execution_count": 3,
   "metadata": {},
   "outputs": [
    {
     "name": "stdout",
     "output_type": "stream",
     "text": [
      "39, State-gov, 77516, Bachelors, 13, Never-married, Adm-clerical, Not-in-family, White, Male, 2174, 0, 40, United-States, <=50K\r\n",
      "50, Self-emp-not-inc, 83311, Bachelors, 13, Married-civ-spouse, Exec-managerial, Husband, White, Male, 0, 0, 13, United-States, <=50K\r\n",
      "38, Private, 215646, HS-grad, 9, Divorced, Handlers-cleaners, Not-in-family, White, Male, 0, 0, 40, United-States, <=50K\r\n",
      "53, Private, 234721, 11th, 7, Married-civ-spouse, Handlers-cleaners, Husband, Black, Male, 0, 0, 40, United-States, <=50K\r\n",
      "28, Private, 338409, Bachelors, 13, Married-civ-spouse, Prof-specialty, Wife, Black, Female, 0, 0, 40, Cuba, <=50K\r\n"
     ]
    }
   ],
   "source": [
    "!head -5 data/adult.data"
   ]
  },
  {
   "cell_type": "code",
   "execution_count": 4,
   "metadata": {},
   "outputs": [
    {
     "name": "stdout",
     "output_type": "stream",
     "text": [
      "(32561, 15)\n"
     ]
    },
    {
     "data": {
      "text/html": [
       "<div>\n",
       "<style scoped>\n",
       "    .dataframe tbody tr th:only-of-type {\n",
       "        vertical-align: middle;\n",
       "    }\n",
       "\n",
       "    .dataframe tbody tr th {\n",
       "        vertical-align: top;\n",
       "    }\n",
       "\n",
       "    .dataframe thead th {\n",
       "        text-align: right;\n",
       "    }\n",
       "</style>\n",
       "<table border=\"1\" class=\"dataframe\">\n",
       "  <thead>\n",
       "    <tr style=\"text-align: right;\">\n",
       "      <th></th>\n",
       "      <th>age</th>\n",
       "      <th>workclass</th>\n",
       "      <th>fnlwgt</th>\n",
       "      <th>education</th>\n",
       "      <th>education_num</th>\n",
       "      <th>marital_status</th>\n",
       "      <th>occupation</th>\n",
       "      <th>relationship</th>\n",
       "      <th>race</th>\n",
       "      <th>gender</th>\n",
       "      <th>capital_gain</th>\n",
       "      <th>capital_loss</th>\n",
       "      <th>hours_per_week</th>\n",
       "      <th>native_country</th>\n",
       "      <th>income_bracket</th>\n",
       "    </tr>\n",
       "  </thead>\n",
       "  <tbody>\n",
       "    <tr>\n",
       "      <th>0</th>\n",
       "      <td>39</td>\n",
       "      <td>State-gov</td>\n",
       "      <td>77516</td>\n",
       "      <td>Bachelors</td>\n",
       "      <td>13</td>\n",
       "      <td>Never-married</td>\n",
       "      <td>Adm-clerical</td>\n",
       "      <td>Not-in-family</td>\n",
       "      <td>White</td>\n",
       "      <td>Male</td>\n",
       "      <td>2174</td>\n",
       "      <td>0</td>\n",
       "      <td>40</td>\n",
       "      <td>United-States</td>\n",
       "      <td>&lt;=50K</td>\n",
       "    </tr>\n",
       "    <tr>\n",
       "      <th>1</th>\n",
       "      <td>50</td>\n",
       "      <td>Self-emp-not-inc</td>\n",
       "      <td>83311</td>\n",
       "      <td>Bachelors</td>\n",
       "      <td>13</td>\n",
       "      <td>Married-civ-spouse</td>\n",
       "      <td>Exec-managerial</td>\n",
       "      <td>Husband</td>\n",
       "      <td>White</td>\n",
       "      <td>Male</td>\n",
       "      <td>0</td>\n",
       "      <td>0</td>\n",
       "      <td>13</td>\n",
       "      <td>United-States</td>\n",
       "      <td>&lt;=50K</td>\n",
       "    </tr>\n",
       "    <tr>\n",
       "      <th>2</th>\n",
       "      <td>38</td>\n",
       "      <td>Private</td>\n",
       "      <td>215646</td>\n",
       "      <td>HS-grad</td>\n",
       "      <td>9</td>\n",
       "      <td>Divorced</td>\n",
       "      <td>Handlers-cleaners</td>\n",
       "      <td>Not-in-family</td>\n",
       "      <td>White</td>\n",
       "      <td>Male</td>\n",
       "      <td>0</td>\n",
       "      <td>0</td>\n",
       "      <td>40</td>\n",
       "      <td>United-States</td>\n",
       "      <td>&lt;=50K</td>\n",
       "    </tr>\n",
       "    <tr>\n",
       "      <th>3</th>\n",
       "      <td>53</td>\n",
       "      <td>Private</td>\n",
       "      <td>234721</td>\n",
       "      <td>11th</td>\n",
       "      <td>7</td>\n",
       "      <td>Married-civ-spouse</td>\n",
       "      <td>Handlers-cleaners</td>\n",
       "      <td>Husband</td>\n",
       "      <td>Black</td>\n",
       "      <td>Male</td>\n",
       "      <td>0</td>\n",
       "      <td>0</td>\n",
       "      <td>40</td>\n",
       "      <td>United-States</td>\n",
       "      <td>&lt;=50K</td>\n",
       "    </tr>\n",
       "    <tr>\n",
       "      <th>4</th>\n",
       "      <td>28</td>\n",
       "      <td>Private</td>\n",
       "      <td>338409</td>\n",
       "      <td>Bachelors</td>\n",
       "      <td>13</td>\n",
       "      <td>Married-civ-spouse</td>\n",
       "      <td>Prof-specialty</td>\n",
       "      <td>Wife</td>\n",
       "      <td>Black</td>\n",
       "      <td>Female</td>\n",
       "      <td>0</td>\n",
       "      <td>0</td>\n",
       "      <td>40</td>\n",
       "      <td>Cuba</td>\n",
       "      <td>&lt;=50K</td>\n",
       "    </tr>\n",
       "  </tbody>\n",
       "</table>\n",
       "</div>"
      ],
      "text/plain": [
       "   age          workclass  fnlwgt   education  education_num  \\\n",
       "0   39          State-gov   77516   Bachelors             13   \n",
       "1   50   Self-emp-not-inc   83311   Bachelors             13   \n",
       "2   38            Private  215646     HS-grad              9   \n",
       "3   53            Private  234721        11th              7   \n",
       "4   28            Private  338409   Bachelors             13   \n",
       "\n",
       "        marital_status          occupation    relationship    race   gender  \\\n",
       "0        Never-married        Adm-clerical   Not-in-family   White     Male   \n",
       "1   Married-civ-spouse     Exec-managerial         Husband   White     Male   \n",
       "2             Divorced   Handlers-cleaners   Not-in-family   White     Male   \n",
       "3   Married-civ-spouse   Handlers-cleaners         Husband   Black     Male   \n",
       "4   Married-civ-spouse      Prof-specialty            Wife   Black   Female   \n",
       "\n",
       "   capital_gain  capital_loss  hours_per_week  native_country income_bracket  \n",
       "0          2174             0              40   United-States          <=50K  \n",
       "1             0             0              13   United-States          <=50K  \n",
       "2             0             0              40   United-States          <=50K  \n",
       "3             0             0              40   United-States          <=50K  \n",
       "4             0             0              40            Cuba          <=50K  "
      ]
     },
     "execution_count": 4,
     "metadata": {},
     "output_type": "execute_result"
    }
   ],
   "source": [
    "CSV_COLUMNS = ['age', 'workclass', 'fnlwgt', 'education', 'education_num',\n",
    "               'marital_status', 'occupation', 'relationship', 'race', 'gender',\n",
    "               'capital_gain', 'capital_loss', 'hours_per_week',\n",
    "               'native_country', 'income_bracket']\n",
    "\n",
    "CSV_DEFAULTS = [[0], [''], [0], [''], [0], [''], [''], [''], [''], [''],[0], [0], [0], [''], ['']]\n",
    "\n",
    "census= pd.read_csv(\"data/adult.data\", names = CSV_COLUMNS)\n",
    "print census.shape\n",
    "census.head()"
   ]
  },
  {
   "cell_type": "markdown",
   "metadata": {},
   "source": [
    "## Preprocesado\n",
    "\n",
    "Normalmente tendríamos que cargar los datos en memoria, limpiar y procesarlos y luego entregarlos a alguna herramienta de ML (i.e. `sklearn`). Fíjate que, en TF, creamos input pipelines que se integran con el proceso de entrenamiento y validación.\n",
    "\n",
    "Vamos a empezar con una tarea de clasificación muy sencilla:\n",
    "\n",
    "- la variable objetivo es `income_braket` (que tendremos que transformar a un cierto valor numérico y categórico)\n",
    "- usaremos las variables de entrada `age` (numérica), y `occupation` (que también tendremos que transformar)\n",
    "\n",
    "Usamos **pandas** ahora para inspeccionar el dataset, pero nuestros pipelines **nacerán desde los ficheros de texto**."
   ]
  },
  {
   "cell_type": "code",
   "execution_count": 5,
   "metadata": {},
   "outputs": [
    {
     "data": {
      "text/html": [
       "<div>\n",
       "<style scoped>\n",
       "    .dataframe tbody tr th:only-of-type {\n",
       "        vertical-align: middle;\n",
       "    }\n",
       "\n",
       "    .dataframe tbody tr th {\n",
       "        vertical-align: top;\n",
       "    }\n",
       "\n",
       "    .dataframe thead th {\n",
       "        text-align: right;\n",
       "    }\n",
       "</style>\n",
       "<table border=\"1\" class=\"dataframe\">\n",
       "  <thead>\n",
       "    <tr style=\"text-align: right;\">\n",
       "      <th></th>\n",
       "      <th>age</th>\n",
       "      <th>occupation</th>\n",
       "      <th>income_bracket</th>\n",
       "    </tr>\n",
       "  </thead>\n",
       "  <tbody>\n",
       "    <tr>\n",
       "      <th>0</th>\n",
       "      <td>39</td>\n",
       "      <td>Adm-clerical</td>\n",
       "      <td>&lt;=50K</td>\n",
       "    </tr>\n",
       "    <tr>\n",
       "      <th>1</th>\n",
       "      <td>50</td>\n",
       "      <td>Exec-managerial</td>\n",
       "      <td>&lt;=50K</td>\n",
       "    </tr>\n",
       "    <tr>\n",
       "      <th>2</th>\n",
       "      <td>38</td>\n",
       "      <td>Handlers-cleaners</td>\n",
       "      <td>&lt;=50K</td>\n",
       "    </tr>\n",
       "    <tr>\n",
       "      <th>3</th>\n",
       "      <td>53</td>\n",
       "      <td>Handlers-cleaners</td>\n",
       "      <td>&lt;=50K</td>\n",
       "    </tr>\n",
       "    <tr>\n",
       "      <th>4</th>\n",
       "      <td>28</td>\n",
       "      <td>Prof-specialty</td>\n",
       "      <td>&lt;=50K</td>\n",
       "    </tr>\n",
       "  </tbody>\n",
       "</table>\n",
       "</div>"
      ],
      "text/plain": [
       "   age          occupation income_bracket\n",
       "0   39        Adm-clerical          <=50K\n",
       "1   50     Exec-managerial          <=50K\n",
       "2   38   Handlers-cleaners          <=50K\n",
       "3   53   Handlers-cleaners          <=50K\n",
       "4   28      Prof-specialty          <=50K"
      ]
     },
     "execution_count": 5,
     "metadata": {},
     "output_type": "execute_result"
    }
   ],
   "source": [
    "d = census[[\"age\", \"occupation\", \"income_bracket\"]].dropna()\n",
    "d.head()"
   ]
  },
  {
   "cell_type": "code",
   "execution_count": 6,
   "metadata": {},
   "outputs": [
    {
     "data": {
      "text/plain": [
       "36    898\n",
       "31    888\n",
       "34    886\n",
       "23    877\n",
       "35    876\n",
       "33    875\n",
       "28    867\n",
       "30    861\n",
       "37    858\n",
       "25    841\n",
       "27    835\n",
       "32    828\n",
       "38    827\n",
       "39    816\n",
       "29    813\n",
       "41    808\n",
       "24    798\n",
       "40    794\n",
       "26    785\n",
       "42    780\n",
       "43    770\n",
       "22    765\n",
       "20    753\n",
       "46    737\n",
       "45    734\n",
       "44    724\n",
       "21    720\n",
       "19    712\n",
       "47    708\n",
       "50    602\n",
       "     ... \n",
       "60    312\n",
       "61    300\n",
       "62    258\n",
       "63    230\n",
       "64    208\n",
       "65    178\n",
       "67    151\n",
       "66    150\n",
       "68    120\n",
       "69    108\n",
       "70     89\n",
       "71     72\n",
       "72     67\n",
       "73     64\n",
       "74     51\n",
       "76     46\n",
       "75     45\n",
       "90     43\n",
       "77     29\n",
       "78     23\n",
       "80     22\n",
       "79     22\n",
       "81     20\n",
       "82     12\n",
       "84     10\n",
       "83      6\n",
       "85      3\n",
       "88      3\n",
       "87      1\n",
       "86      1\n",
       "Name: age, Length: 73, dtype: int64"
      ]
     },
     "execution_count": 6,
     "metadata": {},
     "output_type": "execute_result"
    }
   ],
   "source": [
    "d.age.value_counts()"
   ]
  },
  {
   "cell_type": "code",
   "execution_count": 7,
   "metadata": {},
   "outputs": [
    {
     "data": {
      "text/plain": [
       " Prof-specialty       4140\n",
       " Craft-repair         4099\n",
       " Exec-managerial      4066\n",
       " Adm-clerical         3770\n",
       " Sales                3650\n",
       " Other-service        3295\n",
       " Machine-op-inspct    2002\n",
       " ?                    1843\n",
       " Transport-moving     1597\n",
       " Handlers-cleaners    1370\n",
       " Farming-fishing       994\n",
       " Tech-support          928\n",
       " Protective-serv       649\n",
       " Priv-house-serv       149\n",
       " Armed-Forces            9\n",
       "Name: occupation, dtype: int64"
      ]
     },
     "execution_count": 7,
     "metadata": {},
     "output_type": "execute_result"
    }
   ],
   "source": [
    "d.occupation.value_counts()"
   ]
  },
  {
   "cell_type": "code",
   "execution_count": 8,
   "metadata": {},
   "outputs": [
    {
     "data": {
      "text/plain": [
       " <=50K    24720\n",
       " >50K      7841\n",
       "Name: income_bracket, dtype: int64"
      ]
     },
     "execution_count": 8,
     "metadata": {},
     "output_type": "execute_result"
    }
   ],
   "source": [
    "d.income_bracket.value_counts()"
   ]
  },
  {
   "cell_type": "code",
   "execution_count": 9,
   "metadata": {},
   "outputs": [
    {
     "data": {
      "text/plain": [
       " <=50K    0.75919\n",
       " >50K     0.24081\n",
       "Name: income_bracket, dtype: float64"
      ]
     },
     "execution_count": 9,
     "metadata": {},
     "output_type": "execute_result"
    }
   ],
   "source": [
    "d.income_bracket.value_counts()/len(d)"
   ]
  },
  {
   "cell_type": "code",
   "execution_count": 10,
   "metadata": {},
   "outputs": [
    {
     "data": {
      "text/plain": [
       "((32561, 3), (32561, 3))"
      ]
     },
     "execution_count": 10,
     "metadata": {},
     "output_type": "execute_result"
    }
   ],
   "source": [
    "d.shape, d.dropna().shape"
   ]
  },
  {
   "cell_type": "markdown",
   "metadata": {},
   "source": [
    "### creamos las funciones para construir nuestro `input pipeline`\n",
    "\n",
    "observa como inicialmente TF nos entrega los contenidos de un fichero de texto"
   ]
  },
  {
   "cell_type": "code",
   "execution_count": 11,
   "metadata": {},
   "outputs": [
    {
     "name": "stdout",
     "output_type": "stream",
     "text": [
      "['39, State-gov, 77516, Bachelors, 13, Never-married, Adm-clerical, Not-in-family, White, Male, 2174, 0, 40, United-States, <=50K'\n",
      " '50, Self-emp-not-inc, 83311, Bachelors, 13, Married-civ-spouse, Exec-managerial, Husband, White, Male, 0, 0, 13, United-States, <=50K'\n",
      " '38, Private, 215646, HS-grad, 9, Divorced, Handlers-cleaners, Not-in-family, White, Male, 0, 0, 40, United-States, <=50K'\n",
      " '53, Private, 234721, 11th, 7, Married-civ-spouse, Handlers-cleaners, Husband, Black, Male, 0, 0, 40, United-States, <=50K'\n",
      " '28, Private, 338409, Bachelors, 13, Married-civ-spouse, Prof-specialty, Wife, Black, Female, 0, 0, 40, Cuba, <=50K'\n",
      " '37, Private, 284582, Masters, 14, Married-civ-spouse, Exec-managerial, Wife, White, Female, 0, 0, 40, United-States, <=50K'\n",
      " '49, Private, 160187, 9th, 5, Married-spouse-absent, Other-service, Not-in-family, Black, Female, 0, 0, 16, Jamaica, <=50K'\n",
      " '52, Self-emp-not-inc, 209642, HS-grad, 9, Married-civ-spouse, Exec-managerial, Husband, White, Male, 0, 0, 45, United-States, >50K'\n",
      " '31, Private, 45781, Masters, 14, Never-married, Prof-specialty, Not-in-family, White, Female, 14084, 0, 50, United-States, >50K'\n",
      " '42, Private, 159449, Bachelors, 13, Married-civ-spouse, Exec-managerial, Husband, White, Male, 5178, 0, 40, United-States, >50K']\n"
     ]
    }
   ],
   "source": [
    "\n",
    "dataset = tf.data.TextLineDataset(\"data/adult.data\")\n",
    "dataset = dataset.batch(10)\n",
    "features = dataset.make_one_shot_iterator().get_next()\n",
    "with tf.Session() as sess:\n",
    "    print sess.run(features)\n"
   ]
  },
  {
   "cell_type": "markdown",
   "metadata": {},
   "source": [
    "y si hacemos un parsing básico, nos las entrega como un diccionario"
   ]
  },
  {
   "cell_type": "code",
   "execution_count": 12,
   "metadata": {},
   "outputs": [
    {
     "name": "stdout",
     "output_type": "stream",
     "text": [
      "{'hours_per_week': array([40, 13, 40, 40, 40, 40, 16, 45, 50, 40], dtype=int32), 'workclass': array([' State-gov', ' Self-emp-not-inc', ' Private', ' Private',\n",
      "       ' Private', ' Private', ' Private', ' Self-emp-not-inc',\n",
      "       ' Private', ' Private'], dtype=object), 'relationship': array([' Not-in-family', ' Husband', ' Not-in-family', ' Husband',\n",
      "       ' Wife', ' Wife', ' Not-in-family', ' Husband', ' Not-in-family',\n",
      "       ' Husband'], dtype=object), 'gender': array([' Male', ' Male', ' Male', ' Male', ' Female', ' Female',\n",
      "       ' Female', ' Male', ' Female', ' Male'], dtype=object), 'age': array([39, 50, 38, 53, 28, 37, 49, 52, 31, 42], dtype=int32), 'marital_status': array([' Never-married', ' Married-civ-spouse', ' Divorced',\n",
      "       ' Married-civ-spouse', ' Married-civ-spouse',\n",
      "       ' Married-civ-spouse', ' Married-spouse-absent',\n",
      "       ' Married-civ-spouse', ' Never-married', ' Married-civ-spouse'],\n",
      "      dtype=object), 'race': array([' White', ' White', ' White', ' Black', ' Black', ' White',\n",
      "       ' Black', ' White', ' White', ' White'], dtype=object), 'capital_gain': array([ 2174,     0,     0,     0,     0,     0,     0,     0, 14084,\n",
      "        5178], dtype=int32), 'income_bracket': array([' <=50K', ' <=50K', ' <=50K', ' <=50K', ' <=50K', ' <=50K',\n",
      "       ' <=50K', ' >50K', ' >50K', ' >50K'], dtype=object), 'native_country': array([' United-States', ' United-States', ' United-States',\n",
      "       ' United-States', ' Cuba', ' United-States', ' Jamaica',\n",
      "       ' United-States', ' United-States', ' United-States'], dtype=object), 'capital_loss': array([0, 0, 0, 0, 0, 0, 0, 0, 0, 0], dtype=int32), 'education': array([' Bachelors', ' Bachelors', ' HS-grad', ' 11th', ' Bachelors',\n",
      "       ' Masters', ' 9th', ' HS-grad', ' Masters', ' Bachelors'],\n",
      "      dtype=object), 'fnlwgt': array([ 77516,  83311, 215646, 234721, 338409, 284582, 160187, 209642,\n",
      "        45781, 159449], dtype=int32), 'education_num': array([13, 13,  9,  7, 13, 14,  5,  9, 14, 13], dtype=int32), 'occupation': array([' Adm-clerical', ' Exec-managerial', ' Handlers-cleaners',\n",
      "       ' Handlers-cleaners', ' Prof-specialty', ' Exec-managerial',\n",
      "       ' Other-service', ' Exec-managerial', ' Prof-specialty',\n",
      "       ' Exec-managerial'], dtype=object)}\n"
     ]
    }
   ],
   "source": [
    "def parse_csv(rows_string_tensor):\n",
    "    columns = tf.decode_csv(rows_string_tensor, record_defaults=CSV_DEFAULTS)\n",
    "    return dict(zip(CSV_COLUMNS, columns))\n",
    "\n",
    "dataset = tf.data.TextLineDataset(\"data/adult.data\")\n",
    "dataset = dataset.batch(10)\n",
    "dataset = dataset.map(parse_csv)    \n",
    "features = dataset.make_one_shot_iterator().get_next()\n",
    "with tf.Session() as sess:\n",
    "    print sess.run(features)"
   ]
  },
  {
   "cell_type": "markdown",
   "metadata": {},
   "source": [
    "hacemos ahora el **pipeline completo** decidiendo cual es la columna a predecir, cómo se transforma y seleccionando algunas columnas"
   ]
  },
  {
   "cell_type": "code",
   "execution_count": 13,
   "metadata": {},
   "outputs": [
    {
     "name": "stdout",
     "output_type": "stream",
     "text": [
      "[' <=50K', ' >50K']\n",
      "[' ?', ' Adm-clerical', ' Armed-Forces', ' Craft-repair', ' Exec-managerial', ' Farming-fishing', ' Handlers-cleaners', ' Machine-op-inspct', ' Other-service', ' Priv-house-serv', ' Prof-specialty', ' Protective-serv', ' Sales', ' Tech-support', ' Transport-moving']\n"
     ]
    }
   ],
   "source": [
    "labels = list(np.unique(d.income_bracket))\n",
    "print labels\n",
    "occupations = list(np.unique(d.occupation))\n",
    "print occupations"
   ]
  },
  {
   "cell_type": "code",
   "execution_count": 14,
   "metadata": {},
   "outputs": [],
   "source": [
    "def parse_csv(rows_string_tensor, use_features):\n",
    "    columns = tf.decode_csv(rows_string_tensor, record_defaults=CSV_DEFAULTS)\n",
    "    features = dict(zip(CSV_COLUMNS, columns))\n",
    "\n",
    "    # graph to deal with casuistics of label string\n",
    "    ib = features[\"income_bracket\"]\n",
    "    zero = lambda: tf.constant(0, dtype=tf.float32)\n",
    "    one  = lambda: tf.constant(1, dtype=tf.float32)\n",
    "    features[\"income_bracket\"] = tf.cond(tf.equal(ib, \" >50K\"), one, \n",
    "                                         lambda: tf.cond(tf.equal(ib, \" >50K.\"), one,\n",
    "                                         lambda: tf.cond(tf.equal(ib, \" <=50K\"), zero, \n",
    "                                         lambda: tf.cond(tf.equal(ib, \" <=50K.\"), zero,\n",
    "                                         lambda: tf.constant(-1, dtype=tf.float32)))))\n",
    "    \n",
    "    label = features.pop(\"income_bracket\")\n",
    "    \n",
    "    return {k:v for k,v in features.iteritems() if k in use_features}, label\n",
    "\n",
    "def get_dataset(filename, repeat, batch_size, shuffle):\n",
    "    use_features = [\"age\", \"occupation\", \"income_bracket\"]\n",
    "    \n",
    "    dataset = tf.data.TextLineDataset(filename)\n",
    "    dataset = dataset.repeat(repeat)\n",
    "    if shuffle:\n",
    "        dataset = dataset.shuffle(buffer_size=300)\n",
    "    dataset = dataset.map(lambda x: parse_csv(x, use_features))    \n",
    "    dataset = dataset.batch(batch_size)\n",
    "    return dataset\n",
    "\n",
    "def get_features_defs():\n",
    "    c1 = tf.feature_column.numeric_column(\"age\")\n",
    "    c2 = tf.feature_column.categorical_column_with_vocabulary_list('occupation', occupations)\n",
    "    c2 = tf.feature_column.indicator_column(c2)\n",
    "    return [c1,c2]\n",
    "\n",
    "def make_data_iterator(filename, repeat, batch_size, shuffle=True):\n",
    "    \n",
    "    dataset = get_dataset(filename, repeat, batch_size, shuffle)\n",
    "    features_defs = get_features_defs()\n",
    "    \n",
    "    features, label = dataset.make_one_shot_iterator().get_next()\n",
    "    \n",
    "    next_X = tf.feature_column.input_layer(features, features_defs)\n",
    "    next_y = tf.reshape(label, (-1,1))\n",
    "    \n",
    "    return next_X, next_y"
   ]
  },
  {
   "cell_type": "markdown",
   "metadata": {},
   "source": [
    "observa cómo transforma el input pipeline los datos de entrada"
   ]
  },
  {
   "cell_type": "code",
   "execution_count": 15,
   "metadata": {},
   "outputs": [],
   "source": [
    "tf.reset_default_graph()\n",
    "\n",
    "features, label = make_data_iterator(\"data/adult.data\", repeat=1, batch_size=10, shuffle=False)\n",
    "with tf.Session() as sess:\n",
    "    tf.tables_initializer().run()\n",
    "    f,l = sess.run([features, label])"
   ]
  },
  {
   "cell_type": "code",
   "execution_count": 16,
   "metadata": {},
   "outputs": [
    {
     "name": "stdout",
     "output_type": "stream",
     "text": [
      "[[39.  0.  1.  0.  0.  0.  0.  0.  0.  0.  0.  0.  0.  0.  0.  0.]\n",
      " [50.  0.  0.  0.  0.  1.  0.  0.  0.  0.  0.  0.  0.  0.  0.  0.]\n",
      " [38.  0.  0.  0.  0.  0.  0.  1.  0.  0.  0.  0.  0.  0.  0.  0.]\n",
      " [53.  0.  0.  0.  0.  0.  0.  1.  0.  0.  0.  0.  0.  0.  0.  0.]\n",
      " [28.  0.  0.  0.  0.  0.  0.  0.  0.  0.  0.  1.  0.  0.  0.  0.]\n",
      " [37.  0.  0.  0.  0.  1.  0.  0.  0.  0.  0.  0.  0.  0.  0.  0.]\n",
      " [49.  0.  0.  0.  0.  0.  0.  0.  0.  1.  0.  0.  0.  0.  0.  0.]\n",
      " [52.  0.  0.  0.  0.  1.  0.  0.  0.  0.  0.  0.  0.  0.  0.  0.]\n",
      " [31.  0.  0.  0.  0.  0.  0.  0.  0.  0.  0.  1.  0.  0.  0.  0.]\n",
      " [42.  0.  0.  0.  0.  1.  0.  0.  0.  0.  0.  0.  0.  0.  0.  0.]]\n"
     ]
    }
   ],
   "source": [
    "print f"
   ]
  },
  {
   "cell_type": "code",
   "execution_count": 17,
   "metadata": {},
   "outputs": [
    {
     "name": "stdout",
     "output_type": "stream",
     "text": [
      "[[0.]\n",
      " [0.]\n",
      " [0.]\n",
      " [0.]\n",
      " [0.]\n",
      " [0.]\n",
      " [0.]\n",
      " [1.]\n",
      " [1.]\n",
      " [1.]]\n"
     ]
    }
   ],
   "source": [
    "print l"
   ]
  },
  {
   "cell_type": "code",
   "execution_count": 18,
   "metadata": {},
   "outputs": [
    {
     "name": "stdout",
     "output_type": "stream",
     "text": [
      "39, State-gov, 77516, Bachelors, 13, Never-married, Adm-clerical, Not-in-family, White, Male, 2174, 0, 40, United-States, <=50K\r\n",
      "50, Self-emp-not-inc, 83311, Bachelors, 13, Married-civ-spouse, Exec-managerial, Husband, White, Male, 0, 0, 13, United-States, <=50K\r\n",
      "38, Private, 215646, HS-grad, 9, Divorced, Handlers-cleaners, Not-in-family, White, Male, 0, 0, 40, United-States, <=50K\r\n"
     ]
    }
   ],
   "source": [
    "!head -3 data/adult.data"
   ]
  },
  {
   "cell_type": "markdown",
   "metadata": {},
   "source": [
    "## Ejercicio 1. Ejecución del modelo y cálculo de métricas\n",
    "\n",
    "Usaremos el modelo de clasificación lineal desarrollado en el taller anterior. Lo tienes implementado en \n",
    "\n",
    "- `mlutils.logreg_model`\n",
    "- `mlutils.optimizer`\n",
    "- `mlutils.plot_hists`\n",
    "\n",
    "en este taller tendrás que \n",
    "\n",
    "- inyectar datos para entrenamiento con la función anterior desde el fichero `data/adult.data` con 2 repeticiones, batch_size de 20 y con shuffle.\n",
    "- inyectar datos para test con la función anterior desde el fichero `data/adult.test` con infinitas repeticiones (-1), batch_size de 20 y sin shuffle.\n"
   ]
  },
  {
   "cell_type": "code",
   "execution_count": null,
   "metadata": {},
   "outputs": [],
   "source": [
    "reload(mlutils)\n",
    "tf.reset_default_graph()\n",
    "\n",
    "train_input_iterator = <...>\n",
    "test_input_iterator  = <...>\n",
    "\n",
    "syms = mlutils.logreg_model(...)\n",
    "y_hat, prediction, accuracy, loss, params, test_mode = syms"
   ]
  },
  {
   "cell_type": "code",
   "execution_count": null,
   "metadata": {},
   "outputs": [],
   "source": [
    "optimizer = tf.train.AdamOptimizer(learning_rate=.01).minimize(loss)\n",
    "train_hist, test_hist, nparams = mlutils.optimize(optimizer, loss, accuracy, params, test_mode, \n",
    "                                                  log_period=200, name=\"census\")\n",
    "mlutils.plot_hists(train_hist, test_hist)"
   ]
  },
  {
   "cell_type": "markdown",
   "metadata": {},
   "source": [
    "## Ejercicio 2: predicción y métricas\n",
    "\n",
    "obtenemos las predicciones. observa que al cambiar la función `test_input_iterator` tenemos que construir el grafo computacional completo de nuevo.\n",
    "\n",
    "Completa las funciones `obtain_predictions` y `obtain_first_batch`"
   ]
  },
  {
   "cell_type": "code",
   "execution_count": null,
   "metadata": {},
   "outputs": [],
   "source": [
    "def obtain_predictions(nparams, input_iterator):\n",
    "    tf.reset_default_graph()\n",
    "    syms = mlutils.logreg_model(train_input_iterator=input_iterator, test_input_iterator=input_iterator)\n",
    "    _, prediction, _, _, params, test_mode = syms\n",
    "\n",
    "    fd = <..>\n",
    "    with tf.Session() as sess:\n",
    "        tf.global_variables_initializer().run()    \n",
    "        tf.tables_initializer().run()\n",
    "        preds = sess.run(prediction, feed_dict=fd)\n",
    "    print preds.shape\n",
    "    return preds[:,0]\n",
    "\n",
    "def obtain_first_batch(input_iterator):\n",
    "    tf.reset_default_graph()\n",
    "    \n",
    "    nx,ny = input_iterator()\n",
    "\n",
    "    with tf.Session() as sess:\n",
    "        tf.tables_initializer().run()    \n",
    "        tf.global_variables_initializer().run()\n",
    "        nnx, nny = <... extrae los contenidos del primer batch de input_fn en una session TF ...>\n",
    "        \n",
    "    return nnx, nny[:,0]#[0].reshape(-1,1)[:,0]\n",
    "        \n",
    "def get_scores(nparams, input_iterator):\n",
    "\n",
    "    preds = obtain_predictions(nparams, input_iterator)    \n",
    "    print preds.shape\n",
    "    _, nny = obtain_first_batch(input_iterator) \n",
    "    print \"shapes\", preds.shape, nny.shape\n",
    "    print \"true distribution\"\n",
    "    print pd.Series(nny).value_counts()\n",
    "    print \"prediction distribution\"\n",
    "    print pd.Series(preds).value_counts()\n",
    "    \n",
    "    print \"accuracy %.2f\"%np.mean(preds==nny)\n",
    "    print \"tpr      %.2f\"%<... expresion numpy para calcular el TPR ...>\n",
    "    print \"tnr      %.2f\"%<... expresion numpy para calcular el TNR ...>\n",
    "    print \"fpr      %.2f\"%<... expresion numpy para calcular el FPR ...>\n",
    "    print \"fnr      %.2f\"%<... expresion numpy para calcular el FNR ...>"
   ]
  },
  {
   "cell_type": "code",
   "execution_count": null,
   "metadata": {},
   "outputs": [],
   "source": [
    "test_input_iterator  = lambda: make_data_iterator(\"data/adult.test\", repeat=1, batch_size=1600, shuffle=True)\n",
    "get_scores( nparams, test_input_iterator)"
   ]
  },
  {
   "cell_type": "code",
   "execution_count": null,
   "metadata": {},
   "outputs": [],
   "source": [
    "train_input_iterator  = lambda: make_data_iterator(\"data/adult.data\", repeat=1, batch_size=3200, shuffle=True)\n",
    "get_scores( nparams, train_input_iterator)"
   ]
  },
  {
   "cell_type": "markdown",
   "metadata": {},
   "source": [
    "## Ejercicio 3. Incorporación y preprocesado de _features_\n",
    "\n",
    "- convierte `age` en una columna `bucketized` con los siguientes límites: `[0,20,40,80,100]`\n",
    "- convierte `occupation` en un embedding de 10 dimensiones.\n",
    "- añade la columns `native_country` como un `categorical_column_with_hash_bucket` de tamaño 10\n",
    "- añade la columna `education` como un embedding de 10 dimensiones\n",
    "\n",
    "con esto, la clasificación global no mejorará mucho, pero es probable que el desempeño entre las clases esté más equilibrado. En la práctica ML es así, a base de muchas pequeñas victorias!!!"
   ]
  },
  {
   "cell_type": "code",
   "execution_count": null,
   "metadata": {},
   "outputs": [],
   "source": [
    "education = census.education.unique()\n",
    "print education\n",
    "\n",
    "workclass = census.workclass.unique()\n",
    "print workclass"
   ]
  },
  {
   "cell_type": "code",
   "execution_count": null,
   "metadata": {},
   "outputs": [],
   "source": [
    "def get_extended_dataset(filename, repeat, batch_size, shuffle):\n",
    "    use_features = [\"age\", \"occupation\", \"education\", \"native_country\", \"income_bracket\"]\n",
    "    \n",
    "    dataset = tf.data.TextLineDataset(filename)\n",
    "    dataset = dataset.repeat(repeat)\n",
    "    if shuffle:\n",
    "        dataset = dataset.shuffle(buffer_size=300)\n",
    "    dataset = dataset.map(lambda x: parse_csv(x, use_features))    \n",
    "    dataset = dataset.batch(batch_size)\n",
    "    return dataset\n",
    "\n",
    "def get_extended_features_defs():\n",
    "    \n",
    "    c_age = tf.feature_column.numeric_column(\"age\")\n",
    "    c_bage = <... bucketized c_age ...>\n",
    "    \n",
    "    c_occ = tf.feature_column.categorical_column_with_vocabulary_list('occupation', occupations)\n",
    "    c_iocc = <... embedding c_occ ...>\n",
    "    \n",
    "    c_edu = tf.feature_column.categorical_column_with_vocabulary_list('education', education)\n",
    "    c_iedu = <... embedding c_edu ...>    \n",
    "    \n",
    "    c_cou = tf.feature_column.categorical_column_with_hash_bucket('native_country', <... configura estos parametros ...>)\n",
    "    c_icou = tf.feature_column.indicator_column(c_cou)    \n",
    "    return [c_bage, c_iocc, c_iedu, c_icou]\n",
    "    \n",
    "def make_extended_data_iterator(filename, repeat, batch_size, shuffle=True):\n",
    "\n",
    "    dataset = get_extended_dataset(filename, repeat, batch_size, shuffle)\n",
    "    features_defs = get_extended_features_defs()\n",
    "    \n",
    "    features, label = dataset.make_one_shot_iterator().get_next()\n",
    "    \n",
    "    next_X = tf.feature_column.input_layer(features, features_defs)\n",
    "    next_y = tf.reshape(label, (-1,1))\n",
    "    \n",
    "    return next_X, next_y\n",
    "    \n",
    "\n"
   ]
  },
  {
   "cell_type": "code",
   "execution_count": null,
   "metadata": {},
   "outputs": [],
   "source": [
    "reload(mlutils)\n",
    "tf.reset_default_graph()\n",
    "\n",
    "train_input_iterator = lambda: make_extended_data_iterator(\"data/adult.test\", repeat=2, batch_size=50, shuffle=False)\n",
    "\n",
    "nx,ny = train_input_iterator()\n",
    "with tf.Session() as sess:\n",
    "    tf.global_variables_initializer().run()\n",
    "    tf.tables_initializer().run()    \n",
    "    nnx,nny = sess.run([nx,ny])\n",
    "\n",
    "print nnx.shape\n",
    "print nnx[0]\n",
    "print nnx[:5,0]\n",
    "print nny[:5]"
   ]
  },
  {
   "cell_type": "code",
   "execution_count": null,
   "metadata": {},
   "outputs": [],
   "source": [
    "reload(mlutils)\n",
    "tf.reset_default_graph()\n",
    "train_input_iterator = lambda: make_extended_data_iterator(\"data/adult.data\", repeat=2, batch_size=20, shuffle=True)\n",
    "test_input_iterator  = lambda: make_extended_data_iterator(\"data/adult.test\", repeat=-1, batch_size=20, shuffle=False)\n",
    "\n",
    "syms = mlutils.logreg_model(train_input_iterator=train_input_iterator,\n",
    "                            test_input_iterator=test_input_iterator)\n",
    "y_hat, prediction, accuracy, loss, params, test_mode = syms\n",
    "\n",
    "optimizer = tf.train.AdamOptimizer(learning_rate=.01).minimize(loss)\n",
    "train_hist, test_hist, nparams = mlutils.optimize(optimizer, loss, accuracy, params, test_mode, \n",
    "                                                  name=\"census_extended\", log_period=200)\n"
   ]
  },
  {
   "cell_type": "code",
   "execution_count": null,
   "metadata": {},
   "outputs": [],
   "source": [
    "mlutils.plot_hists(train_hist, test_hist)"
   ]
  },
  {
   "cell_type": "code",
   "execution_count": null,
   "metadata": {},
   "outputs": [],
   "source": [
    "train_input_iterator  = lambda: make_extended_data_iterator(\"data/adult.data\", repeat=1, batch_size=32000, shuffle=True)\n",
    "get_scores(nparams, train_input_iterator)"
   ]
  },
  {
   "cell_type": "code",
   "execution_count": null,
   "metadata": {},
   "outputs": [],
   "source": [
    "test_input_iterator  = lambda: make_extended_data_iterator(\"data/adult.test\", repeat=1, batch_size=16000, shuffle=True)\n",
    "get_scores(nparams, test_input_iterator)"
   ]
  },
  {
   "cell_type": "code",
   "execution_count": null,
   "metadata": {},
   "outputs": [],
   "source": []
  },
  {
   "cell_type": "code",
   "execution_count": null,
   "metadata": {},
   "outputs": [],
   "source": []
  },
  {
   "cell_type": "code",
   "execution_count": null,
   "metadata": {},
   "outputs": [],
   "source": []
  },
  {
   "cell_type": "code",
   "execution_count": null,
   "metadata": {},
   "outputs": [],
   "source": []
  },
  {
   "cell_type": "code",
   "execution_count": null,
   "metadata": {},
   "outputs": [],
   "source": []
  },
  {
   "cell_type": "code",
   "execution_count": null,
   "metadata": {},
   "outputs": [],
   "source": []
  }
 ],
 "metadata": {
  "kernelspec": {
   "display_name": "Python 2",
   "language": "python",
   "name": "python2"
  },
  "language_info": {
   "codemirror_mode": {
    "name": "ipython",
    "version": 2
   },
   "file_extension": ".py",
   "mimetype": "text/x-python",
   "name": "python",
   "nbconvert_exporter": "python",
   "pygments_lexer": "ipython2",
   "version": "2.7.14"
  }
 },
 "nbformat": 4,
 "nbformat_minor": 2
}
